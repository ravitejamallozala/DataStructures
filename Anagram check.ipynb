{
 "cells": [
  {
   "cell_type": "markdown",
   "metadata": {},
   "source": [
    "Anagram Check\n",
    "Problem\n",
    "Given two strings, check to see if they are anagrams. An anagram is when the two strings can be written using the exact same letters (so you can just rearrange the letters to get a different phrase or word).\n",
    "\n",
    "For example:\n",
    "\n",
    "\"public relations\" is an anagram of \"crap built on lies.\"\n",
    "\n",
    "\"clint eastwood\" is an anagram of \"old west action\"\n",
    "Note: Ignore spaces and capitalization. So \"d go\" is an anagram of \"God\" and \"dog\" and \"o d g\".\n"
   ]
  },
  {
   "cell_type": "code",
   "execution_count": null,
   "metadata": {},
   "outputs": [],
   "source": [
    "a ={\"a\":3, \"b\" :4} \n",
    "b = {\"a\":3, \"c\" :4} \n",
    "a.keys()\n"
   ]
  },
  {
   "cell_type": "code",
   "execution_count": 23,
   "metadata": {},
   "outputs": [],
   "source": [
    "class Hashtable:\n",
    "    \n",
    "    def __init__(self):\n",
    "        self.hash_dict = {}\n",
    "    \n",
    "    def get_hash_value(self, key):\n",
    "        if key not in self.hash_dict.keys():\n",
    "            print(\"Key Not present in Hashtable\")\n",
    "            return\n",
    "        return(self.hash_dict[key])\n",
    "    \n",
    "    def insert(self, key):\n",
    "        if key in self.hash_dict.keys():\n",
    "            self.hash_dict[key] = int(self.hash_dict[key]) + 1    \n",
    "            \n",
    "        else:\n",
    "            self.hash_dict[key] = 1\n",
    "\n",
    "    def delete(self, key):\n",
    "        if key in self.hash_dict.keys():\n",
    "            self.hash_dict[key] = int(self.hash_dict[key]) - 1    \n",
    "        else:\n",
    "            self.hash_dict[key] = -1\n",
    "\n",
    "    def get_keys(self):\n",
    "        return self.hash_dict.keys()"
   ]
  },
  {
   "cell_type": "code",
   "execution_count": 24,
   "metadata": {},
   "outputs": [],
   "source": [
    "\n",
    "def anagram(s1,s2):\n",
    "    if not len(s1) == len(s2):\n",
    "        return False\n",
    "    h1 = Hashtable()\n",
    "    for i in s1:\n",
    "        if i is ' ':\n",
    "            continue\n",
    "        h1.insert(i.lower())\n",
    "    print (\"initailly\", h1.hash_dict)\n",
    "    for i in s2:\n",
    "        if i is ' ':\n",
    "            continue  \n",
    "        h1.delete(i.lower())\n",
    "    for key in h1.get_keys():\n",
    "        if h1.get_hash_value(key) is not 0:\n",
    "            return False\n",
    "    return True\n",
    "    \n",
    "    \n",
    "    "
   ]
  },
  {
   "cell_type": "code",
   "execution_count": 26,
   "metadata": {},
   "outputs": [
    {
     "name": "stdout",
     "output_type": "stream",
     "text": [
      "initailly {'r': 2, 'a': 1, 'v': 1, 'i': 2, 's': 2, 'u': 1, 'p': 1, 'e': 1}\n"
     ]
    },
    {
     "data": {
      "text/plain": [
       "True"
      ]
     },
     "execution_count": 26,
     "metadata": {},
     "output_type": "execute_result"
    }
   ],
   "source": [
    "anagram(\"ravi is super\", \"ivar is super\")\n"
   ]
  }
 ],
 "metadata": {
  "kernelspec": {
   "display_name": "Python 3",
   "language": "python",
   "name": "python3"
  },
  "language_info": {
   "codemirror_mode": {
    "name": "ipython",
    "version": 3
   },
   "file_extension": ".py",
   "mimetype": "text/x-python",
   "name": "python",
   "nbconvert_exporter": "python",
   "pygments_lexer": "ipython3",
   "version": "3.7.1"
  }
 },
 "nbformat": 4,
 "nbformat_minor": 2
}
