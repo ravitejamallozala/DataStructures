{
 "cells": [
  {
   "cell_type": "code",
   "execution_count": 6,
   "metadata": {},
   "outputs": [],
   "source": [
    "import csv"
   ]
  },
  {
   "cell_type": "code",
   "execution_count": 7,
   "metadata": {},
   "outputs": [],
   "source": [
    "url_mapping = {}\n"
   ]
  },
  {
   "cell_type": "code",
   "execution_count": null,
   "metadata": {},
   "outputs": [],
   "source": [
    "with open('/home/raviteja/Downloads/graylog-execution_time_new.csv', 'r') as f:\n",
    "    \n",
    "    logs = list(csv.reader(f,delimiter=','))\n",
    "    \n",
    "    "
   ]
  },
  {
   "cell_type": "code",
   "execution_count": 10,
   "metadata": {},
   "outputs": [],
   "source": [
    "for log in logs[1:]:\n",
    "    if log[0] not in url_mapping:\n",
    "        url_mapping[log[0]] = {}\n",
    "        url_mapping[log[0]]['count'] = 1\n",
    "        url_mapping[log[0]]['response_times'] = [int(log[1])]\n",
    "        url_mapping[log[0]]['sum'] = int(log[1])\n",
    "    else:    \n",
    "        url_mapping[log[0]]['count'] = url_mapping[log[0]]['count'] + 1\n",
    "        (url_mapping[log[0]]['response_times']).append(int(log[1]))\n",
    "        url_mapping[log[0]]['sum'] = int(log[1]) + url_mapping[log[0]]['sum'] "
   ]
  },
  {
   "cell_type": "code",
   "execution_count": null,
   "metadata": {},
   "outputs": [],
   "source": [
    "\n"
   ]
  },
  {
   "cell_type": "code",
   "execution_count": 11,
   "metadata": {},
   "outputs": [],
   "source": [
    "with open('apis_list_execution.csv', 'w') as wf:\n",
    "    writer = csv.writer(wf)\n",
    "    \n",
    "    row = ['url', 'count', 'average', '90th percentile', '80th percentile']\n",
    "    writer.writerow(row)\n",
    "    for url in url_mapping.keys():\n",
    "        url_mapping[url]['average'] = (url_mapping[url]['sum'] / url_mapping[url]['count'])\n",
    "        url_mapping[url]['response_times'].sort()\n",
    "        index = round(90 * (url_mapping[url]['count']/100)) -1\n",
    "    #     print(index)\n",
    "    #     print(url_mapping[url]['response_times'])\n",
    "        url_mapping[url]['90th percentile'] = url_mapping[url]['response_times'][index]\n",
    "        index_80 = round(80 * (url_mapping[url]['count']/100))\n",
    "        url_mapping[url]['80th percentile'] = url_mapping[url]['response_times'][index]\n",
    "        row = [url, url_mapping[url]['count'], url_mapping[url]['average'], url_mapping[url]['90th percentile'], url_mapping[url]['80th percentile']]\n",
    "        writer.writerow(row)\n"
   ]
  },
  {
   "cell_type": "code",
   "execution_count": 12,
   "metadata": {},
   "outputs": [],
   "source": [
    "wf.close()"
   ]
  },
  {
   "cell_type": "code",
   "execution_count": 8,
   "metadata": {},
   "outputs": [],
   "source": [
    "with open('/home/raviteja/Downloads/graylog-execution_time_new.csv', 'r') as f:\n",
    "    \n",
    "    rows = list(csv.reader(f,delimiter=','))\n",
    "    \n",
    "    "
   ]
  },
  {
   "cell_type": "code",
   "execution_count": 9,
   "metadata": {},
   "outputs": [],
   "source": [
    "for row in rows:\n",
    "    if '?' in row[0]:\n",
    "        row[0] = row[0].split('?')[0] \n",
    "logs = rows        \n",
    "    "
   ]
  },
  {
   "cell_type": "code",
   "execution_count": null,
   "metadata": {},
   "outputs": [],
   "source": []
  }
 ],
 "metadata": {
  "kernelspec": {
   "display_name": "Python 3",
   "language": "python",
   "name": "python3"
  },
  "language_info": {
   "codemirror_mode": {
    "name": "ipython",
    "version": 3
   },
   "file_extension": ".py",
   "mimetype": "text/x-python",
   "name": "python",
   "nbconvert_exporter": "python",
   "pygments_lexer": "ipython3",
   "version": "3.7.1"
  }
 },
 "nbformat": 4,
 "nbformat_minor": 2
}
